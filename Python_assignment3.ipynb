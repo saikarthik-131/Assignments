{
 "cells": [
  {
   "cell_type": "markdown",
   "metadata": {},
   "source": [
    "# Python Assignment-3"
   ]
  },
  {
   "cell_type": "raw",
   "metadata": {},
   "source": [
    "1.1 Write a Python Program to implement your own myreduce() function which works exactly like Pythons built-in function reduce()"
   ]
  },
  {
   "cell_type": "code",
   "execution_count": 21,
   "metadata": {},
   "outputs": [
    {
     "name": "stdout",
     "output_type": "stream",
     "text": [
      "90\n"
     ]
    }
   ],
   "source": [
    "#reduce function which used to find max value from the given list\n",
    "def myreduce(mylist):\n",
    "    max_val = mylist[0]\n",
    "    for i in mylist:\n",
    "       max_val = findmax(max_val,i)           \n",
    "    return max_val\n",
    "\n",
    "def findmax(val1,val2):\n",
    "    if(val1 > val2):\n",
    "        return val1\n",
    "    else:\n",
    "        return val2\n",
    "    \n",
    "mylist = [1,2,3,4,90,5,6,30]\n",
    "list_sum = myreduce(mylist)\n",
    "print(list_sum)"
   ]
  },
  {
   "cell_type": "raw",
   "metadata": {},
   "source": [
    "1.2 Write a Python program to implement your own myfilter() function which works exactly\n",
    "like Python's built-in function filter()"
   ]
  },
  {
   "cell_type": "code",
   "execution_count": 52,
   "metadata": {},
   "outputs": [
    {
     "name": "stdout",
     "output_type": "stream",
     "text": [
      "Enter the range of the list30\n",
      "[1, 3, 5, 7, 9, 11, 13, 15, 17, 19, 21, 23, 25, 27, 29]\n"
     ]
    }
   ],
   "source": [
    "#custom myfilter() method which returns numbers which are odd in the given list\n",
    "def myfilter(n):\n",
    "    odd_list = []\n",
    "    for i in range(n):\n",
    "        if(findodd(i)):\n",
    "            odd_list.append(findodd(i))\n",
    "    return odd_list\n",
    "\n",
    "def findodd(val):\n",
    "    if(val%2 != 0):\n",
    "        return val\n",
    "    \n",
    "list_range = int(input(\"Enter the range of the list\"))\n",
    "oddnum_list = list(myfilter(list_range))\n",
    "print(oddnum_list)"
   ]
  },
  {
   "cell_type": "raw",
   "metadata": {},
   "source": [
    "2. Implement List comprehensions to produce the following lists.\n",
    "Write List comprehensions to produce the following Lists"
   ]
  },
  {
   "cell_type": "code",
   "execution_count": 63,
   "metadata": {},
   "outputs": [
    {
     "name": "stdout",
     "output_type": "stream",
     "text": [
      "['x', 'xx', 'xxx', 'xxxx', 'y', 'yy', 'yyy', 'yyyy', 'z', 'zz', 'zzz', 'zzzz']\n"
     ]
    }
   ],
   "source": [
    "#['x', 'xx', 'xxx', 'xxxx', 'y', 'yy', 'yyy', 'yyyy', 'z', 'zz', 'zzz', 'zzzz'] \n",
    "list1 = ['x','y','z'] \n",
    "l = []\n",
    "for i in list1:\n",
    "    for j in range(1,5):\n",
    "        l.append(i*j)\n",
    "print(l)"
   ]
  },
  {
   "cell_type": "code",
   "execution_count": 72,
   "metadata": {},
   "outputs": [
    {
     "name": "stdout",
     "output_type": "stream",
     "text": [
      "['x', 'y', 'z', 'xx', 'yy', 'zz', 'xxx', 'yyy', 'zzz', 'xxxx', 'yyyy', 'zzzz']\n"
     ]
    }
   ],
   "source": [
    "#['x', 'y', 'z', 'xx', 'yy', 'zz', 'xxx', 'yyy', 'zzz', 'xxxx', 'yyyy', 'zzzz']\n",
    "list1=['x','y','z']\n",
    "list_output = []\n",
    "for i in range(1,5):\n",
    "    for j in list1:\n",
    "        list_output.append(i*j)\n",
    "print(list_output)"
   ]
  },
  {
   "cell_type": "code",
   "execution_count": 80,
   "metadata": {},
   "outputs": [
    {
     "name": "stdout",
     "output_type": "stream",
     "text": [
      "[[2], [3], [4], [3], [4], [5], [4], [5], [6]]\n"
     ]
    }
   ],
   "source": [
    "#[[2], [3], [4], [3], [4], [5], [4], [5], [6]]\n",
    "input_list = [2,3,4]\n",
    "list_out = []\n",
    "lis = []\n",
    "for i in input_list:\n",
    "    for j in range(0,3):\n",
    "        lis = [i+j]\n",
    "        list_out.append(lis)\n",
    "print(list_out)\n"
   ]
  },
  {
   "cell_type": "code",
   "execution_count": 103,
   "metadata": {},
   "outputs": [
    {
     "name": "stdout",
     "output_type": "stream",
     "text": [
      "[[2, 3, 4, 5], [3, 4, 5, 6], [4, 5, 6, 7], [5, 6, 7, 8]]\n"
     ]
    }
   ],
   "source": [
    "#[[2, 3, 4, 5], [3, 4, 5, 6],[4, 5, 6, 7], [5, 6, 7, 8]]\n",
    "list_in = [2,3,4,5]\n",
    "list_out =[]\n",
    "\n",
    "result = [ [i+j for i in list_in] for j in range(0,4)]\n",
    "print(result)"
   ]
  },
  {
   "cell_type": "code",
   "execution_count": 115,
   "metadata": {},
   "outputs": [
    {
     "name": "stdout",
     "output_type": "stream",
     "text": [
      "[(1, 1), (2, 1), (3, 1), (1, 2), (2, 2), (3, 2), (1, 3), (2, 3), (3, 3)]\n"
     ]
    }
   ],
   "source": [
    "#[(1, 1), (2, 1), (3, 1), (1, 2), (2, 2), (3, 2), (1, 3), (2, 3), (3, 3)]\n",
    "input_list = [1,2,3]\n",
    "lis = []\n",
    "for i in input_list:\n",
    "    for j in range(1,4):\n",
    "        lis.append((j,i))\n",
    "print(lis)"
   ]
  }
 ],
 "metadata": {
  "kernelspec": {
   "display_name": "Python 3",
   "language": "python",
   "name": "python3"
  },
  "language_info": {
   "codemirror_mode": {
    "name": "ipython",
    "version": 3
   },
   "file_extension": ".py",
   "mimetype": "text/x-python",
   "name": "python",
   "nbconvert_exporter": "python",
   "pygments_lexer": "ipython3",
   "version": "3.7.6"
  }
 },
 "nbformat": 4,
 "nbformat_minor": 4
}
