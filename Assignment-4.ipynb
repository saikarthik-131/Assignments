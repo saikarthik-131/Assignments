{
 "cells": [
  {
   "cell_type": "markdown",
   "metadata": {},
   "source": [
    "# Python Assignment-4"
   ]
  },
  {
   "cell_type": "raw",
   "metadata": {},
   "source": [
    "1.1 Write a Python Program(with class concepts) to find the area of the triangle using the below formula:\n",
    "    \n",
    "    area = (s*(s-a)*(s-b)*(s-c)) ** 0.5\n"
   ]
  },
  {
   "cell_type": "code",
   "execution_count": 40,
   "metadata": {},
   "outputs": [
    {
     "name": "stdout",
     "output_type": "stream",
     "text": [
      "Enter the value of a : 2\n",
      "Enter the value of b : 3\n",
      "Enter the value of c : 4\n",
      "Area of Triangle : 2.9047375096555625\n"
     ]
    }
   ],
   "source": [
    "class AreaofTriangle:\n",
    "    def __init__(self):\n",
    "        self.a = a\n",
    "        self.b = b\n",
    "        self.c = c\n",
    "        \n",
    "class Area(AreaofTriangle):\n",
    "    def getArea(self):\n",
    "        s = (self.a+self.b+self.c)/2\n",
    "        area = (s*(s-a)*(s-b)*(s-c)) ** 0.5\n",
    "        return area\n",
    "\n",
    "a = int(input(\"Enter the value of a : \"))\n",
    "b = int(input(\"Enter the value of b : \"))\n",
    "c = int(input(\"Enter the value of c : \"))\n",
    "result = Area()\n",
    "print(\"Area of Triangle : {}\".format(result.getArea()))\n",
    "\n",
    "\n"
   ]
  },
  {
   "cell_type": "raw",
   "metadata": {},
   "source": [
    "1.2 Write a function filter_long_words() that takes a list of words and an integer n and returns the list of words that are longer than n.\n"
   ]
  },
  {
   "cell_type": "code",
   "execution_count": 37,
   "metadata": {},
   "outputs": [
    {
     "name": "stdout",
     "output_type": "stream",
     "text": [
      "Enter the length of the list : 3\n",
      "Enter the value of n : 4\n",
      "Data\n",
      "MachineLearning\n",
      "Python\n",
      "['MachineLearning', 'Python']\n"
     ]
    }
   ],
   "source": [
    "def filter_long_words(list_len,n):\n",
    "    wordlist = []\n",
    "    for i in range(list_len):\n",
    "        wordlist.append(input())\n",
    "    result = []\n",
    "    for i in wordlist:\n",
    "        if len(i)>n:\n",
    "            result.append(i)\n",
    "    return result\n",
    "            \n",
    "list_len = int(input(\"Enter the length of the list : \"))\n",
    "n = int(input(\"Enter the value of n : \"))\n",
    "result_words = filter_long_words(list_len,n)\n",
    "print(result_words)"
   ]
  },
  {
   "cell_type": "raw",
   "metadata": {},
   "source": [
    "2.1 Write a Python program using function concept that maps list of words into a list of integers representing the lengths of the corresponding words.\n",
    "Hint: If a list [ ab,cde,erty] is passed on to the python function output should come as [2,3,4]\n",
    "\n",
    "Here 2,3 and 4 are the lengths of the words in the list.\n"
   ]
  },
  {
   "cell_type": "code",
   "execution_count": 34,
   "metadata": {},
   "outputs": [
    {
     "name": "stdout",
     "output_type": "stream",
     "text": [
      "Enter the length of the list : 3\n",
      "DataScience\n",
      "Python\n",
      "MachineLearning\n",
      "[11, 6, 15]\n"
     ]
    }
   ],
   "source": [
    "def integer_list(list_len):\n",
    "    wordlist = []\n",
    "    for i in range(list_len):\n",
    "        wordlist.append(input())\n",
    "    result = []\n",
    "    for i in wordlist:\n",
    "        result.append(len(i))\n",
    "    return result\n",
    "            \n",
    "list_len = int(input(\"Enter the length of the list : \"))\n",
    "#n = int(input(\"Enter the value of n : \"))\n",
    "result_words = integer_list(list_len)\n",
    "print(result_words)"
   ]
  },
  {
   "cell_type": "raw",
   "metadata": {},
   "source": [
    "2.2 Write a Python function which takes a character (i.e. a string of length 1) and returns True if it is a vowel, False otherwise."
   ]
  },
  {
   "cell_type": "code",
   "execution_count": 36,
   "metadata": {},
   "outputs": [
    {
     "name": "stdout",
     "output_type": "stream",
     "text": [
      "Enter a character of length 1 : a\n",
      "True\n"
     ]
    }
   ],
   "source": [
    "def checkVowel(char):\n",
    "    if(len(char)==1):\n",
    "        if(char == 'a' or char == 'e' or char == 'i' or char == 'o' or char == 'u'):\n",
    "            return True\n",
    "        else:\n",
    "            return False\n",
    "    else:\n",
    "        return False\n",
    "char = input(\"Enter a character of length 1 : \")\n",
    "result = checkVowel(char)\n",
    "print(result)"
   ]
  }
 ],
 "metadata": {
  "kernelspec": {
   "display_name": "Python 3",
   "language": "python",
   "name": "python3"
  },
  "language_info": {
   "codemirror_mode": {
    "name": "ipython",
    "version": 3
   },
   "file_extension": ".py",
   "mimetype": "text/x-python",
   "name": "python",
   "nbconvert_exporter": "python",
   "pygments_lexer": "ipython3",
   "version": "3.7.6"
  }
 },
 "nbformat": 4,
 "nbformat_minor": 4
}
